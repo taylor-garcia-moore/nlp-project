{
 "cells": [
  {
   "cell_type": "code",
   "execution_count": 6,
   "id": "3bfb2f5b-3f3f-43f7-b25d-ca36a879408c",
   "metadata": {},
   "outputs": [],
   "source": [
    "# Import \n",
    "from env import token, username\n",
    "import requests\n",
    "import pandas as pd \n",
    "import numpy as np \n",
    "import matplotlib.pyplot as plt \n",
    "import nltk \n",
    "import warnings\n",
    "warnings.filterwarnings('ignore')"
   ]
  },
  {
   "cell_type": "code",
   "execution_count": 7,
   "id": "cdc355e5-db28-47a0-97be-cc34d7ec8e23",
   "metadata": {},
   "outputs": [
    {
     "name": "stdout",
     "output_type": "stream",
     "text": [
      "['go-xorm/xorm', 'jonathantneal/flexibility', 'arielsalminen/responsive-nav.js', 'jhnns/rewire', 'CtripMobile/DynamicAPK', 'jasonross/Nuwa', 'facebookarchive/webscalesql-5.6', 'bhauman/lein-figwheel', 'airbnb/infinity', 'jeanphix/Ghost.py', 'decaffeinate/decaffeinate', 'rocketeers/rocketeer', 'xcpretty/xcode-install', 'gravityblast/web-app-theme', 'HumbleSoftware/Flotr2', 'kaishengtai/neuralart', 'matt-curtis/Fluid-for-Sketch', 'RasaHQ/rasa_core', 'balanced/balanced-dashboard', 'plattysoft/Leonids', 'amazon-archives/aws-mobile-react-native-starter', 'xinghongfei/LookLook', 'leafo/lessphp', 'codingXiaxw/seckill', 'cloudhead/node-static', 'tencentyun/wafer', 'mislav/git-deploy', 'soyjavi/QuoJS', 'rcrowley/goagain', 'androidquery/androidquery', 'onmyway133/DeepDiff', 'jorgebastida/gordon', 'bitshadow/iconate', 'danwrong/restler', 'imcvampire/vue-axios', 'ryanb/nifty-generators', 'mattt/GroundControl', 'souporserious/react-measure', 'nakupanda/bootstrap3-dialog', 'razorjack/quicksand', 'geddy/geddy', 'wdjungst/react-project', 'iamdaiyuan/ios_top_1000', 'lynndylanhurley/ng-token-auth', 'hnqlv/minigrid', 'mhart/react-server-example', 'IFTTT/jot', 'Jianru-Lin/lambda-view', 'neex/phuip-fpizdam', 'Tencent/QMUI_Web', 'jlongster/transducers.js', 'preboot/angularjs-webpack', 'z-pattern-matching/z', 'creativetimofficial/now-ui-kit', 'acdlite/flummox', 'rdio/jsfmt', 'laher/goxc', 'litaio/lita', 'quicktype/quicktype-xcode', 'carsonxyz/CNPPopupController', 'tenex/rails-assets', 'RadLikeWhoa/Countable', 'codebrew/backbone-rails', 'graphsketcher/GraphSketcher', 'SamRothCA/Today-Scripts', 'boxen/boxen', 'hiddentao/squel', 'stanfordnlp/cs224n-winter17-notes', 'ramsaylanier/WordExpress', 'lessfish/leetcode', 'adzap/validates_timeliness', 'mikeash/MAObjCRuntime', 'cwRichardKim/RKDropdownAlert', 'davist11/jQuery-One-Page-Nav', 'MatthewYork/MYBlurIntroductionView', 'scottyab/secure-preferences', 'ideawu/icomet', 'DmitryBaranovskiy/g.raphael', 'probml/pmtk3', 'exyte/ARTetris', 'tj/react-enroute', 'KyleAMathews/react-spinkit', 'minhur/bootstrap-toggle', 'webpack/docs', 'honcheng/RTLabel', 'daleroberts/itermplot', 'martin-gorner/tensorflow-mnist-tutorial', 'apollographql/apollo-link', 'Tamicer/Novate', 'heimashi/kotlin_tips', 'immobiliare/ApnsPHP', 'mmin18/FlexLayout', 'spotify/docker-client', 'aFarkas/webshim', 'sindresorhus/multiline', 'bvaughn/redux-search', 'cloudframeworks-springcloud/user-guide-springcloud', 'robertknight/webpack-bundle-size-analyzer', 'uileader/touchui', 'tomepel/Technical_Book_DL']\n"
     ]
    }
   ],
   "source": [
    "\n",
    "# GitHub API endpoint\n",
    "url = \"https://api.github.com/search/repositories\"\n",
    "\n",
    "# Parameters for the API request\n",
    "params = {\n",
    "    \"q\": \"stars:>0\",\n",
    "    \"sort\": \"stars\",\n",
    "    \"order\": \"desc\",\n",
    "    \"per_page\": 100,\n",
    "}\n",
    "\n",
    "# Authentication headers\n",
    "headers = {\"Authorization\": f\"token {token}\", \"User-Agent\": username}\n",
    "\n",
    "# Send a GET request to the GitHub API\n",
    "response = requests.get(url, params=params, headers=headers)\n",
    "\n",
    "# Check if the response is successful\n",
    "if response.status_code == 200:\n",
    "    # Get the response data\n",
    "    response_data = response.json()\n",
    "\n",
    "    # Extract the repository names\n",
    "    repos = [repo[\"full_name\"] for repo in response_data[\"items\"]]\n",
    "\n",
    "    # Display the repository names\n",
    "    print(repos)\n",
    "else:\n",
    "    print(\"Failed to retrieve repository names from the GitHub API\")\n",
    "    \n",
    "df = pd.DataFrame()"
   ]
  },
  {
   "cell_type": "code",
   "execution_count": 9,
   "id": "f4306aff-c052-47ef-a1f3-a2b2d22bc605",
   "metadata": {},
   "outputs": [
    {
     "name": "stdout",
     "output_type": "stream",
     "text": [
      "Our data comes from the top 100 trending repositories on GitHub as of 2023-05-15\n"
     ]
    }
   ],
   "source": [
    "import datetime\n",
    "import requests\n",
    "import pandas as pd\n",
    "from env import token, username\n",
    "\n",
    "# List of repository names\n",
    "#df_repos = repos\n",
    "#repos = ['trekhleb/javascript-algorithms', 'ohmyzsh/ohmyzsh', 'TheAlgorithms/Python', 'torvalds/linux', 'Snailclimb/JavaGuide', 'huggingface/transformers', 'trimstray/the-book-of-secret-knowledge', 'microsoft/PowerToys', 'rust-lang/rust', 'f/awesome-chatgpt-prompts', 'ripienaar/free-for-dev', 'bitcoin/bitcoin', 'spring-projects/spring-boot', 'netdata/netdata', 'coder/code-server', 'reduxjs/redux', 'atom/atom', 'protocolbuffers/protobuf', 'angular/angular.js', 'keras-team/keras', 'h5bp/Front-end-Developer-Interview-Questions', 'nestjs/nest', 'lodash/lodash', 'leonardomso/33-js-concepts', 'apache/echarts', 'rails/rails', 'MunGell/awesome-for-beginners', 'scutan90/DeepLearning-500-questions', 'supabase/supabase', 'google/material-design-icons', 'nuxt/nuxt', 'serverless/serverless', 'ryanoasis/nerd-fonts', 'meteor/meteor', 'cypress-io/cypress', 'Textualize/rich', 'iamkun/dayjs', 'ColorlibHQ/AdminLTE', 'parcel-bundler/parcel', 'ethereum/go-ethereum', 'styled-components/styled-components', 'youngyangyang04/leetcode-master', 'discourse/discourse', 'agalwood/Motrix', 'hashicorp/terraform', 'vuetifyjs/vuetify', 'FFmpeg/FFmpeg', 'serhii-londar/open-source-mac-os-apps', 'jesseduffield/lazygit', 'wg/wrk', 'ant-design/ant-design-pro', 'eugenp/tutorials', 'microsoft/monaco-editor', 'google/leveldb', 'LAION-AI/Open-Assistant', 'gto76/python-cheatsheet', 'alibaba/arthas', 'xitu/gold-miner', 'facebookresearch/segment-anything', 'psf/black', 'geekxh/hello-algorithm', 'pyenv/pyenv', 'withastro/astro', 'rapid7/metasploit-framework', 'mqyqingfeng/Blog', 'typicode/husky', 'lib-pku/libpku', 'bradtraversy/50projects50days', 'PKUanonym/REKCARC-TSC-UHT', 'ccxt/ccxt', 'jashkenas/backbone', 'solidjs/solid', 'postcss/postcss', 'cockroachdb/cockroach', 'fzaninotto/Faker', 'danielgindi/Charts', 'ibraheemdev/modern-unix', 'realpython/python-guide', 'nvie/gitflow', 'geekcompany/ResumeSample', 'explosion/spaCy', 'ehang-io/nps', 'ajaxorg/ace', 'encode/django-rest-framework', 'viraptor/reverse-interview', 'AllThingsSmitty/css-protips', 'yichengchen/clashX', 'ggreer/the_silver_searcher', 'Ebazhanov/linkedin-skill-assessments-quizzes', 'facebookresearch/fastText', 'akveo/ngx-admin', 'open-mmlab/mmdetection', 'pypa/pipenv', 'hammerjs/hammer.js', 'VundleVim/Vundle.vim', 'quasarframework/quasar', 'zhiwehu/Python-programming-exercises', 'qier222/YesPlayMusic', 'remix-run/remix', 'dnSpy/dnSpy']\n",
    "\n",
    "\n",
    "# Scrape README files and store their content in a dictionary\n",
    "readme_data = {'Repository': [], 'Readme': []}\n",
    "for repo in repos:\n",
    "    # Get the URL of the README file\n",
    "    url = f\"https://api.github.com/repos/{repo}/readme\"\n",
    "\n",
    "    # Send a GET request to the URL with authentication\n",
    "    headers = {\"Authorization\": f\"token {token}\", \"User-Agent\": username}\n",
    "    response = requests.get(url, headers=headers)\n",
    "\n",
    "    # Check if the response is successful\n",
    "    if response.status_code == 200:\n",
    "        # Get the content from the response\n",
    "        response_data = response.json()\n",
    "        readme_content = response_data['content']\n",
    "\n",
    "        # Decode the base64 encoded content\n",
    "        import base64\n",
    "        readme_text = base64.b64decode(readme_content).decode('utf-8')\n",
    "\n",
    "        # Store the repository name and the corresponding README content\n",
    "        readme_data['Repository'].append(repo)\n",
    "        readme_data['Readme'].append(readme_text)\n",
    "    else:\n",
    "        print(f\"Failed to retrieve README for repository: {repo}\")\n",
    "\n",
    "# Create a DataFrame from the scraped data\n",
    "df = pd.DataFrame(readme_data)\n",
    "\n",
    "# Save the DataFrame to a CSV file\n",
    "# df.to_csv('readme_data.csv', index=False)\n",
    "\n",
    "# Print the notification message\n",
    "current_date = datetime.datetime.now().strftime(\"%Y-%m-%d\")\n",
    "print(f\"Our data comes from the top 100 trending repositories on GitHub as of {current_date}\")"
   ]
  },
  {
   "cell_type": "code",
   "execution_count": 22,
   "id": "c17af60b-06ea-4d56-aff5-5a2e8833c056",
   "metadata": {},
   "outputs": [
    {
     "data": {
      "text/plain": [
       "0     # xorm HAS BEEN MOVED TO https://gitea.com/xor...\n",
       "1     # flexibility\\n\\n<a href=\"https://github.com/j...\n",
       "2     \\n# Responsive Nav\\n\\n### Responsive navigatio...\n",
       "3     rewire\\n======\\n**Easy monkey-patching for nod...\n",
       "4     \\n## Introduction\\n\\nWhat is DynamicAPK?\\n\\nDy...\n",
       "                            ...                        \n",
       "95    redux-search\\n-----\\n\\n<img src=\"https://cloud...\n",
       "96    # [Cloudframeworks]Microservices Architecture ...\n",
       "97    Webpack Bundle Size Analyzer\\n================...\n",
       "98    <p align=\"center\">\\n\\n<img width=\"200\" height=...\n",
       "99    # Technical Book on Deep Learning\\n\\nThis note...\n",
       "Name: Readme, Length: 100, dtype: object"
      ]
     },
     "execution_count": 22,
     "metadata": {},
     "output_type": "execute_result"
    }
   ],
   "source": [
    "df['Readme']"
   ]
  },
  {
   "cell_type": "code",
   "execution_count": 27,
   "id": "af2d3d29-105b-45a3-8912-da6d52f2deec",
   "metadata": {},
   "outputs": [],
   "source": [
    "# \n",
    "import prepare_nlp\n",
    "\n",
    "# prepare_nlp.basic_clean(df.Readme.str)\n",
    "cleaned_text = basic_clean(df['Readme'])"
   ]
  },
  {
   "cell_type": "code",
   "execution_count": 26,
   "id": "1ad5adeb-2111-4385-89f9-18d901b0ecb7",
   "metadata": {},
   "outputs": [],
   "source": [
    "import re\n",
    "import unicodedata\n",
    "\n",
    "def basic_clean(series):\n",
    "    '''\n",
    "    Takes in a Pandas Series, makes all characters lowercase, normalizes all characters, and removes unnecessary special characters.\n",
    "    '''\n",
    "    # lowercase all words in the series\n",
    "    lowered = series.str.lower()\n",
    "    \n",
    "    # normalize unicode characters using lowered\n",
    "    normalized = lowered.apply(lambda x: unicodedata.normalize('NFKD', x).encode('ascii', 'ignore').decode('utf-8', 'ignore'))\n",
    "    \n",
    "    # replace unnecessary characters from normalized\n",
    "    cleaned = normalized.apply(lambda x: re.sub(r\"[^a-z0-9'\\s]\", '', x))\n",
    "    \n",
    "    return cleaned\n"
   ]
  },
  {
   "cell_type": "code",
   "execution_count": 28,
   "id": "309d31b7-5bbb-43d0-9149-a2348af34547",
   "metadata": {},
   "outputs": [
    {
     "data": {
      "text/plain": [
       "0      xorm has been moved to httpsgiteacomxormxorm ...\n",
       "1      flexibility\\n\\na hrefhttpsgithubcomjonathantn...\n",
       "2     \\n responsive nav\\n\\n responsive navigation pl...\n",
       "3     rewire\\n\\neasy monkeypatching for nodejs unit ...\n",
       "4     \\n introduction\\n\\nwhat is dynamicapk\\n\\ndynam...\n",
       "                            ...                        \n",
       "95    reduxsearch\\n\\n\\nimg srchttpscloudgithubuserco...\n",
       "96     cloudframeworksmicroservices architecture wit...\n",
       "97    webpack bundle size analyzer\\n\\n\\nbuild status...\n",
       "98    p aligncenter\\n\\nimg width200 height200 srchtt...\n",
       "99     technical book on deep learning\\n\\nthis note ...\n",
       "Name: Readme, Length: 100, dtype: object"
      ]
     },
     "execution_count": 28,
     "metadata": {},
     "output_type": "execute_result"
    }
   ],
   "source": [
    "cleaned_text"
   ]
  }
 ],
 "metadata": {
  "kernelspec": {
   "display_name": "Python 3 (ipykernel)",
   "language": "python",
   "name": "python3"
  },
  "language_info": {
   "codemirror_mode": {
    "name": "ipython",
    "version": 3
   },
   "file_extension": ".py",
   "mimetype": "text/x-python",
   "name": "python",
   "nbconvert_exporter": "python",
   "pygments_lexer": "ipython3",
   "version": "3.10.9"
  }
 },
 "nbformat": 4,
 "nbformat_minor": 5
}
